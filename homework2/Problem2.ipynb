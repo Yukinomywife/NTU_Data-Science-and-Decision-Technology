# -*- coding: utf-8 -*-
"""
Created on Fri Apr 14 19:01:36 2023

@author: jimmy
"""
import numpy as np
import pandas as pd
from sklearn.metrics import accuracy_score, confusion_matrix, classification_report
from sklearn.svm import SVC
from sklearn.ensemble import BaggingClassifier
from sklearn.metrics import ConfusionMatrixDisplay as CMD

np.random.seed(42)
train_data = pd.read_csv('mnist_train.csv')
test_data = pd.read_csv('mnist_test.csv')

y_train = train_data.iloc[:, 0].values
X_train = train_data.iloc[:, 1:].values
y_test = test_data.iloc[:, 0].values
X_test = test_data.iloc[:, 1:].values

SVM = SVC()
model = BaggingClassifier(estimator=SVM,n_jobs = -1)
model.fit(X_train, y_train)

y_pred = model.predict(X_test)
accuracy = accuracy_score(y_test, y_pred)
print("Accuracy:", accuracy)
cm = confusion_matrix(y_test, y_pred)
print("Confusion matrix:")
print(cm)
CMD(cm).plot()
print ("Classification report: \n", (classification_report(y_test, y_pred,digits=5)))