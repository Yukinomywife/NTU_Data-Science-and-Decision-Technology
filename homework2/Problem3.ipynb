# -*- coding: utf-8 -*-
"""
Created on Fri Apr 14 21:53:05 2023

@author: jimmy
"""
import pandas as pd
import numpy as np
from sklearn.model_selection import train_test_split
from sklearn.linear_model import LogisticRegression
from sklearn.ensemble import RandomForestClassifier, AdaBoostClassifier
from sklearn.metrics import accuracy_score, confusion_matrix, f1_score, precision_score
from sklearn.preprocessing import MinMaxScaler
from sklearn import metrics
from sklearn.svm import SVC
from sklearn.metrics import ConfusionMatrixDisplay as CMD
from xgboost import XGBClassifier

df = pd.read_csv("Telco-Customer-Churn.csv")
 
values = [' ']
df = df[df.isin(values) == False]
df = df.dropna()
df = df.reset_index(drop = True)
df2 = df.iloc[:,1:]
df2['Churn'].replace(to_replace='Yes', value=1, inplace=True)
df2['Churn'].replace(to_replace='No',  value=0, inplace=True)
df2['tenure'] = df2['tenure'].astype(int)
df2['TotalCharges'] = df2['TotalCharges'].astype(float)

df_dummies = pd.get_dummies(df2)

y = df_dummies['Churn'].values
X = df_dummies.drop(columns = ['Churn','gender_Male','gender_Female'])

features = X.columns.values
scaler = MinMaxScaler(feature_range = (0,1))
scaler.fit(X)
X = pd.DataFrame(scaler.transform(X))
X.columns = features

X_train, X_test, y_train, y_test = train_test_split(X, y, test_size=0.2, random_state=99)

# logistic regression model
print('logistic regression')
model_log = LogisticRegression(random_state=42,max_iter=150)
model_log.fit(X_train, y_train)

y_pred = model_log.predict(X_test)
f1 = f1_score(y_test, y_pred)
acc = accuracy_score(y_test, y_pred)
precision = precision_score(y_test, y_pred)
print('F1 score: ',f1)
print('Accuracy:', metrics.accuracy_score(y_test, y_pred))
print('Precision:',precision)
print(confusion_matrix(y_test,y_pred))
cm = confusion_matrix(y_test,y_pred)
CMD(cm).plot()


#random forest
print('random forest')
model_rf = RandomForestClassifier(n_estimators=1000 , oob_score = True, n_jobs = -1,
                                  random_state =50, max_features = "auto",
                                  max_leaf_nodes = 30)
model_rf.fit(X_train, y_train)

y_pred = model_rf.predict(X_test)
f1 = f1_score(y_test, y_pred)
acc = accuracy_score(y_test, y_pred)
precision = precision_score(y_test, y_pred)
print('F1 score: ',f1)
print('Accuracy:', metrics.accuracy_score(y_test, y_pred))
print('Precision:',precision)
print(confusion_matrix(y_test,y_pred))
cm = confusion_matrix(y_test,y_pred)
CMD(cm).plot()

#SVM
print('SVM')
model_SVM = SVC(kernel='linear',random_state=42) 
model_SVM.fit(X_train,y_train)

y_pred = model_SVM.predict(X_test)
f1 = f1_score(y_test, y_pred)
acc = accuracy_score(y_test, y_pred)
precision = precision_score(y_test, y_pred)
print('F1 score: ',f1)
print('Accuracy:', metrics.accuracy_score(y_test, y_pred))
print('Precision:',precision)
print(confusion_matrix(y_test,y_pred))
cm = confusion_matrix(y_test,y_pred)
CMD(cm).plot()


# AdaBoost Algorithm
print('Adaboost Tree')
model_ada = AdaBoostClassifier(random_state=42)
model_ada.fit(X_train,y_train)

y_pred = model_ada.predict(X_test)
f1 = f1_score(y_test, y_pred)
acc = accuracy_score(y_test, y_pred)
precision = precision_score(y_test, y_pred)
print('F1 score: ',f1)
print('Accuracy:', metrics.accuracy_score(y_test, y_pred))
print('Precision:',precision)
print(confusion_matrix(y_test,y_pred))
cm = confusion_matrix(y_test,y_pred)
CMD(cm).plot()

#XGBoost
print('XGBoost')
model_xgb = XGBClassifier(random_state=42)
model_xgb.fit(X_train, y_train)

y_pred = model_xgb.predict(X_test)
f1 = f1_score(y_test, y_pred)
acc = accuracy_score(y_test, y_pred)
precision = precision_score(y_test, y_pred)
print('F1 score: ',f1)
print('Accuracy:', metrics.accuracy_score(y_test, y_pred))
print('Precision:',precision)
print(confusion_matrix(y_test,y_pred))
cm = confusion_matrix(y_test,y_pred)
CMD(cm).plot()
